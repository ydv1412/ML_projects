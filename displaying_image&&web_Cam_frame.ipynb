{
 "cells": [
  {
   "cell_type": "code",
   "execution_count": 2,
   "metadata": {},
   "outputs": [],
   "source": [
    "import cv2"
   ]
  },
  {
   "cell_type": "code",
   "execution_count": 7,
   "metadata": {},
   "outputs": [],
   "source": [
    "img = cv2.imread(\"java.png\")\n",
    "while True:\n",
    "    cv2.imshow(\"image\" , img)  \n",
    "    if cv2.waitKey(0)==27:            ### waitkey(0) is used to display images only\n",
    "        break\n",
    "##cv2.imwrite(\"image.png\",img)        \n",
    "cv2.destroyAllWindows()"
   ]
  },
  {
   "cell_type": "code",
   "execution_count": 8,
   "metadata": {},
   "outputs": [],
   "source": [
    "#### loop is used for continuous showing of image i guess"
   ]
  },
  {
   "cell_type": "code",
   "execution_count": 9,
   "metadata": {},
   "outputs": [],
   "source": [
    "cap = cv2.VideoCapture(0)    ### videocapture returns object to local webcam\n",
    "while True:\n",
    "    _,frame = cap.read()\n",
    "    frame = cv2.flip(frame , 1)       ### to flip frame horizontally use 1 otherwise use 0\n",
    "    cv2.imshow(\"window\" , frame)\n",
    "    if cv2.waitKey(1)==27:             #### waitkey(1) is used to display a frame for 1ms atleast\n",
    "        break\n",
    "cap.release()\n",
    "cv2.destroyAllWindows()"
   ]
  },
  {
   "cell_type": "code",
   "execution_count": null,
   "metadata": {},
   "outputs": [],
   "source": []
  }
 ],
 "metadata": {
  "kernelspec": {
   "display_name": "Python 3",
   "language": "python",
   "name": "python3"
  },
  "language_info": {
   "codemirror_mode": {
    "name": "ipython",
    "version": 3
   },
   "file_extension": ".py",
   "mimetype": "text/x-python",
   "name": "python",
   "nbconvert_exporter": "python",
   "pygments_lexer": "ipython3",
   "version": "3.8.5"
  }
 },
 "nbformat": 4,
 "nbformat_minor": 4
}
